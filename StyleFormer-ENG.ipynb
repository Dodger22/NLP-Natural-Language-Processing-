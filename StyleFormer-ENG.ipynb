{
 "cells": [
  {
   "cell_type": "markdown",
   "metadata": {
    "id": "LpI3hZvPTbTJ"
   },
   "source": [
    "# **STYLE FORMER**\n",
    "\n",
    "*   Our aim is to turn formal sentences into daily sentences and daily sentences into formal sentences.\n",
    "\n"
   ]
  },
  {
   "cell_type": "code",
   "execution_count": 1,
   "metadata": {
    "colab": {
     "base_uri": "https://localhost:8080/"
    },
    "id": "5RO8dAbDOGoR",
    "outputId": "532ec5f0-b4d6-4c1a-a766-b51b5c32cfbd"
   },
   "outputs": [
    {
     "name": "stdout",
     "output_type": "stream",
     "text": [
      "Collecting git+https://github.com/PrithivirajDamodaran/Styleformer.git\n",
      "  Cloning https://github.com/PrithivirajDamodaran/Styleformer.git to c:\\users\\mirza\\appdata\\local\\temp\\pip-req-build-odq38pmo\n",
      "  Resolved https://github.com/PrithivirajDamodaran/Styleformer.git to commit 505ca67741d4f4e4e6f1997e3842b30e3f9a21f8\n",
      "Requirement already satisfied: transformers in c:\\users\\mirza\\anaconda3\\lib\\site-packages (from styleformer==0.1) (4.16.2)\n",
      "Requirement already satisfied: sentencepiece in c:\\users\\mirza\\anaconda3\\lib\\site-packages (from styleformer==0.1) (0.1.96)\n",
      "Requirement already satisfied: python-Levenshtein in c:\\users\\mirza\\anaconda3\\lib\\site-packages (from styleformer==0.1) (0.12.2)\n",
      "Requirement already satisfied: fuzzywuzzy in c:\\users\\mirza\\anaconda3\\lib\\site-packages (from styleformer==0.1) (0.18.0)\n",
      "Requirement already satisfied: setuptools in c:\\users\\mirza\\anaconda3\\lib\\site-packages (from python-Levenshtein->styleformer==0.1) (58.0.4)\n",
      "Requirement already satisfied: numpy>=1.17 in c:\\users\\mirza\\anaconda3\\lib\\site-packages (from transformers->styleformer==0.1) (1.22.2)\n",
      "Requirement already satisfied: packaging>=20.0 in c:\\users\\mirza\\anaconda3\\lib\\site-packages (from transformers->styleformer==0.1) (21.3)\n",
      "Requirement already satisfied: regex!=2019.12.17 in c:\\users\\mirza\\anaconda3\\lib\\site-packages (from transformers->styleformer==0.1) (2022.1.18)\n",
      "Requirement already satisfied: filelock in c:\\users\\mirza\\anaconda3\\lib\\site-packages (from transformers->styleformer==0.1) (3.4.2)\n",
      "Requirement already satisfied: tokenizers!=0.11.3,>=0.10.1 in c:\\users\\mirza\\anaconda3\\lib\\site-packages (from transformers->styleformer==0.1) (0.11.4)\n",
      "Requirement already satisfied: requests in c:\\users\\mirza\\anaconda3\\lib\\site-packages (from transformers->styleformer==0.1) (2.27.1)\n",
      "Requirement already satisfied: huggingface-hub<1.0,>=0.1.0 in c:\\users\\mirza\\anaconda3\\lib\\site-packages (from transformers->styleformer==0.1) (0.4.0)\n",
      "Requirement already satisfied: sacremoses in c:\\users\\mirza\\anaconda3\\lib\\site-packages (from transformers->styleformer==0.1) (0.0.47)\n",
      "Requirement already satisfied: pyyaml>=5.1 in c:\\users\\mirza\\anaconda3\\lib\\site-packages (from transformers->styleformer==0.1) (6.0)\n",
      "Requirement already satisfied: tqdm>=4.27 in c:\\users\\mirza\\anaconda3\\lib\\site-packages (from transformers->styleformer==0.1) (4.62.3)\n",
      "Requirement already satisfied: typing-extensions>=3.7.4.3 in c:\\users\\mirza\\anaconda3\\lib\\site-packages (from huggingface-hub<1.0,>=0.1.0->transformers->styleformer==0.1) (4.1.1)\n",
      "Requirement already satisfied: pyparsing!=3.0.5,>=2.0.2 in c:\\users\\mirza\\anaconda3\\lib\\site-packages (from packaging>=20.0->transformers->styleformer==0.1) (3.0.4)\n",
      "Requirement already satisfied: colorama in c:\\users\\mirza\\anaconda3\\lib\\site-packages (from tqdm>=4.27->transformers->styleformer==0.1) (0.4.4)\n",
      "Requirement already satisfied: charset-normalizer~=2.0.0 in c:\\users\\mirza\\anaconda3\\lib\\site-packages (from requests->transformers->styleformer==0.1) (2.0.4)\n",
      "Requirement already satisfied: urllib3<1.27,>=1.21.1 in c:\\users\\mirza\\anaconda3\\lib\\site-packages (from requests->transformers->styleformer==0.1) (1.26.8)\n",
      "Requirement already satisfied: idna<4,>=2.5 in c:\\users\\mirza\\anaconda3\\lib\\site-packages (from requests->transformers->styleformer==0.1) (3.3)\n",
      "Requirement already satisfied: certifi>=2017.4.17 in c:\\users\\mirza\\anaconda3\\lib\\site-packages (from requests->transformers->styleformer==0.1) (2021.10.8)\n",
      "Requirement already satisfied: joblib in c:\\users\\mirza\\anaconda3\\lib\\site-packages (from sacremoses->transformers->styleformer==0.1) (1.1.0)\n",
      "Requirement already satisfied: click in c:\\users\\mirza\\anaconda3\\lib\\site-packages (from sacremoses->transformers->styleformer==0.1) (8.0.3)\n",
      "Requirement already satisfied: six in c:\\users\\mirza\\anaconda3\\lib\\site-packages (from sacremoses->transformers->styleformer==0.1) (1.16.0)\n"
     ]
    },
    {
     "name": "stderr",
     "output_type": "stream",
     "text": [
      "  Running command git clone -q https://github.com/PrithivirajDamodaran/Styleformer.git 'C:\\Users\\mirza\\AppData\\Local\\Temp\\pip-req-build-odq38pmo'\n"
     ]
    },
    {
     "name": "stdout",
     "output_type": "stream",
     "text": [
      "Requirement already satisfied: gradio in c:\\users\\mirza\\anaconda3\\lib\\site-packages (2.7.5.2)\n",
      "Requirement already satisfied: pydub in c:\\users\\mirza\\anaconda3\\lib\\site-packages (from gradio) (0.25.1)\n",
      "Requirement already satisfied: markdown2 in c:\\users\\mirza\\anaconda3\\lib\\site-packages (from gradio) (2.4.2)\n",
      "Requirement already satisfied: pycryptodome in c:\\users\\mirza\\anaconda3\\lib\\site-packages (from gradio) (3.14.1)\n",
      "Requirement already satisfied: pandas in c:\\users\\mirza\\anaconda3\\lib\\site-packages (from gradio) (1.4.1)\n",
      "Requirement already satisfied: requests in c:\\users\\mirza\\anaconda3\\lib\\site-packages (from gradio) (2.27.1)\n",
      "Requirement already satisfied: matplotlib in c:\\users\\mirza\\anaconda3\\lib\\site-packages (from gradio) (3.5.1)\n",
      "Requirement already satisfied: aiohttp in c:\\users\\mirza\\anaconda3\\lib\\site-packages (from gradio) (3.8.1)\n",
      "Requirement already satisfied: numpy in c:\\users\\mirza\\anaconda3\\lib\\site-packages (from gradio) (1.22.2)\n",
      "Requirement already satisfied: fastapi in c:\\users\\mirza\\anaconda3\\lib\\site-packages (from gradio) (0.73.0)\n",
      "Requirement already satisfied: ffmpy in c:\\users\\mirza\\anaconda3\\lib\\site-packages (from gradio) (0.3.0)\n",
      "Requirement already satisfied: paramiko in c:\\users\\mirza\\anaconda3\\lib\\site-packages (from gradio) (2.9.2)\n",
      "Requirement already satisfied: uvicorn in c:\\users\\mirza\\anaconda3\\lib\\site-packages (from gradio) (0.17.4)\n",
      "Requirement already satisfied: pillow in c:\\users\\mirza\\anaconda3\\lib\\site-packages (from gradio) (8.4.0)\n",
      "Requirement already satisfied: analytics-python in c:\\users\\mirza\\anaconda3\\lib\\site-packages (from gradio) (1.4.0)\n",
      "Requirement already satisfied: python-multipart in c:\\users\\mirza\\anaconda3\\lib\\site-packages (from gradio) (0.0.5)\n",
      "Requirement already satisfied: multidict<7.0,>=4.5 in c:\\users\\mirza\\anaconda3\\lib\\site-packages (from aiohttp->gradio) (6.0.2)\n",
      "Requirement already satisfied: charset-normalizer<3.0,>=2.0 in c:\\users\\mirza\\anaconda3\\lib\\site-packages (from aiohttp->gradio) (2.0.4)\n",
      "Requirement already satisfied: attrs>=17.3.0 in c:\\users\\mirza\\anaconda3\\lib\\site-packages (from aiohttp->gradio) (21.4.0)\n",
      "Requirement already satisfied: aiosignal>=1.1.2 in c:\\users\\mirza\\anaconda3\\lib\\site-packages (from aiohttp->gradio) (1.2.0)\n",
      "Requirement already satisfied: frozenlist>=1.1.1 in c:\\users\\mirza\\anaconda3\\lib\\site-packages (from aiohttp->gradio) (1.3.0)\n",
      "Requirement already satisfied: async-timeout<5.0,>=4.0.0a3 in c:\\users\\mirza\\anaconda3\\lib\\site-packages (from aiohttp->gradio) (4.0.2)\n",
      "Requirement already satisfied: yarl<2.0,>=1.0 in c:\\users\\mirza\\anaconda3\\lib\\site-packages (from aiohttp->gradio) (1.7.2)\n",
      "Requirement already satisfied: idna>=2.0 in c:\\users\\mirza\\anaconda3\\lib\\site-packages (from yarl<2.0,>=1.0->aiohttp->gradio) (3.3)\n",
      "Requirement already satisfied: six>=1.5 in c:\\users\\mirza\\anaconda3\\lib\\site-packages (from analytics-python->gradio) (1.16.0)\n",
      "Requirement already satisfied: backoff==1.10.0 in c:\\users\\mirza\\anaconda3\\lib\\site-packages (from analytics-python->gradio) (1.10.0)\n",
      "Requirement already satisfied: monotonic>=1.5 in c:\\users\\mirza\\anaconda3\\lib\\site-packages (from analytics-python->gradio) (1.6)\n",
      "Requirement already satisfied: python-dateutil>2.1 in c:\\users\\mirza\\anaconda3\\lib\\site-packages (from analytics-python->gradio) (2.8.2)\n",
      "Requirement already satisfied: urllib3<1.27,>=1.21.1 in c:\\users\\mirza\\anaconda3\\lib\\site-packages (from requests->gradio) (1.26.8)\n",
      "Requirement already satisfied: certifi>=2017.4.17 in c:\\users\\mirza\\anaconda3\\lib\\site-packages (from requests->gradio) (2021.10.8)\n",
      "Requirement already satisfied: pydantic!=1.7,!=1.7.1,!=1.7.2,!=1.7.3,!=1.8,!=1.8.1,<2.0.0,>=1.6.2 in c:\\users\\mirza\\anaconda3\\lib\\site-packages (from fastapi->gradio) (1.8.2)\n",
      "Requirement already satisfied: starlette==0.17.1 in c:\\users\\mirza\\anaconda3\\lib\\site-packages (from fastapi->gradio) (0.17.1)\n",
      "Requirement already satisfied: anyio<4,>=3.0.0 in c:\\users\\mirza\\anaconda3\\lib\\site-packages (from starlette==0.17.1->fastapi->gradio) (3.5.0)\n",
      "Requirement already satisfied: sniffio>=1.1 in c:\\users\\mirza\\anaconda3\\lib\\site-packages (from anyio<4,>=3.0.0->starlette==0.17.1->fastapi->gradio) (1.2.0)\n",
      "Requirement already satisfied: typing-extensions>=3.7.4.3 in c:\\users\\mirza\\anaconda3\\lib\\site-packages (from pydantic!=1.7,!=1.7.1,!=1.7.2,!=1.7.3,!=1.8,!=1.8.1,<2.0.0,>=1.6.2->fastapi->gradio) (4.1.1)\n",
      "Requirement already satisfied: fonttools>=4.22.0 in c:\\users\\mirza\\anaconda3\\lib\\site-packages (from matplotlib->gradio) (4.29.1)\n",
      "Requirement already satisfied: cycler>=0.10 in c:\\users\\mirza\\anaconda3\\lib\\site-packages (from matplotlib->gradio) (0.11.0)\n",
      "Requirement already satisfied: pyparsing>=2.2.1 in c:\\users\\mirza\\anaconda3\\lib\\site-packages (from matplotlib->gradio) (3.0.4)\n",
      "Requirement already satisfied: packaging>=20.0 in c:\\users\\mirza\\anaconda3\\lib\\site-packages (from matplotlib->gradio) (21.3)\n",
      "Requirement already satisfied: kiwisolver>=1.0.1 in c:\\users\\mirza\\anaconda3\\lib\\site-packages (from matplotlib->gradio) (1.3.2)\n",
      "Requirement already satisfied: pytz>=2020.1 in c:\\users\\mirza\\anaconda3\\lib\\site-packages (from pandas->gradio) (2021.3)\n",
      "Requirement already satisfied: bcrypt>=3.1.3 in c:\\users\\mirza\\anaconda3\\lib\\site-packages (from paramiko->gradio) (3.2.0)\n",
      "Requirement already satisfied: cryptography>=2.5 in c:\\users\\mirza\\anaconda3\\lib\\site-packages (from paramiko->gradio) (3.4.8)\n",
      "Requirement already satisfied: pynacl>=1.0.1 in c:\\users\\mirza\\anaconda3\\lib\\site-packages (from paramiko->gradio) (1.5.0)\n",
      "Requirement already satisfied: cffi>=1.1 in c:\\users\\mirza\\anaconda3\\lib\\site-packages (from bcrypt>=3.1.3->paramiko->gradio) (1.15.0)\n",
      "Requirement already satisfied: pycparser in c:\\users\\mirza\\anaconda3\\lib\\site-packages (from cffi>=1.1->bcrypt>=3.1.3->paramiko->gradio) (2.21)\n",
      "Requirement already satisfied: h11>=0.8 in c:\\users\\mirza\\anaconda3\\lib\\site-packages (from uvicorn->gradio) (0.13.0)\n",
      "Requirement already satisfied: asgiref>=3.4.0 in c:\\users\\mirza\\anaconda3\\lib\\site-packages (from uvicorn->gradio) (3.5.0)\n",
      "Requirement already satisfied: click>=7.0 in c:\\users\\mirza\\anaconda3\\lib\\site-packages (from uvicorn->gradio) (8.0.3)\n",
      "Requirement already satisfied: colorama in c:\\users\\mirza\\anaconda3\\lib\\site-packages (from click>=7.0->uvicorn->gradio) (0.4.4)\n",
      "Requirement already satisfied: anyio in c:\\users\\mirza\\anaconda3\\lib\\site-packages (3.5.0)\n",
      "Requirement already satisfied: sniffio>=1.1 in c:\\users\\mirza\\anaconda3\\lib\\site-packages (from anyio) (1.2.0)\n",
      "Requirement already satisfied: idna>=2.8 in c:\\users\\mirza\\anaconda3\\lib\\site-packages (from anyio) (3.3)\n",
      "Requirement already satisfied: nltk in c:\\users\\mirza\\anaconda3\\lib\\site-packages (3.7)\n",
      "Requirement already satisfied: tqdm in c:\\users\\mirza\\anaconda3\\lib\\site-packages (from nltk) (4.62.3)\n",
      "Requirement already satisfied: regex>=2021.8.3 in c:\\users\\mirza\\anaconda3\\lib\\site-packages (from nltk) (2022.1.18)\n",
      "Requirement already satisfied: click in c:\\users\\mirza\\anaconda3\\lib\\site-packages (from nltk) (8.0.3)\n",
      "Requirement already satisfied: joblib in c:\\users\\mirza\\anaconda3\\lib\\site-packages (from nltk) (1.1.0)\n",
      "Requirement already satisfied: colorama in c:\\users\\mirza\\anaconda3\\lib\\site-packages (from click->nltk) (0.4.4)\n",
      "Requirement already satisfied: wrapt in c:\\users\\mirza\\anaconda3\\lib\\site-packages (1.13.3)\n"
     ]
    }
   ],
   "source": [
    "!pip install git+https://github.com/PrithivirajDamodaran/Styleformer.git\n",
    "!pip install gradio\n",
    "!pip install anyio\n",
    "!pip install nltk\n",
    "!pip install wrapt"
   ]
  },
  {
   "cell_type": "code",
   "execution_count": 2,
   "metadata": {
    "colab": {
     "base_uri": "https://localhost:8080/"
    },
    "id": "tWdhQ217OMG7",
    "outputId": "5481aacd-a80a-40b8-a042-b17c37fc3591"
   },
   "outputs": [
    {
     "name": "stderr",
     "output_type": "stream",
     "text": [
      "[nltk_data] Downloading package punkt to\n",
      "[nltk_data]     C:\\Users\\mirza\\AppData\\Roaming\\nltk_data...\n",
      "[nltk_data]   Package punkt is already up-to-date!\n"
     ]
    }
   ],
   "source": [
    "import nltk\n",
    "nltk.download('punkt')\n",
    "from styleformer import Styleformer\n",
    "from nltk.tokenize import sent_tokenize, word_tokenize\n",
    "import gradio as gr"
   ]
  },
  {
   "cell_type": "code",
   "execution_count": 3,
   "metadata": {
    "colab": {
     "base_uri": "https://localhost:8080/"
    },
    "id": "gbzW3d9dOPWD",
    "outputId": "dee0414e-6eb3-4cf0-f37a-1b183a05a004"
   },
   "outputs": [
    {
     "name": "stdout",
     "output_type": "stream",
     "text": [
      "Casual to Formal model loaded...\n",
      "Formal to Casual model loaded...\n"
     ]
    }
   ],
   "source": [
    "styleformer_casual_to_formal = Styleformer(style=0)\n",
    "styleformer_formal_to_casual = Styleformer(style=1)"
   ]
  },
  {
   "cell_type": "markdown",
   "metadata": {
    "id": "nB8mZTh7feqB"
   },
   "source": [
    "# CASUAL TO FORMAL"
   ]
  },
  {
   "cell_type": "code",
   "execution_count": 10,
   "metadata": {
    "colab": {
     "base_uri": "https://localhost:8080/"
    },
    "id": "6R5qO0Rub34V",
    "outputId": "0a13975c-da6a-4ed9-b946-2488e7cfc14a"
   },
   "outputs": [
    {
     "name": "stdout",
     "output_type": "stream",
     "text": [
      "Hey everyone, what are you doing?\n"
     ]
    }
   ],
   "source": [
    "raw_text = \"hi what the fuck are you doing you all \"\n",
    "\n",
    "text_tokenize = sent_tokenize(raw_text)\n",
    "\n",
    "processed_text = []\n",
    "\n",
    "for i in range(0, len(text_tokenize)):\n",
    "  modeled_text = styleformer_casual_to_formal.transfer(text_tokenize[i])\n",
    "  processed_text.append(modeled_text)\n",
    "\n",
    "ripe_text= \" \".join(map(str, processed_text)) \n",
    "print(ripe_text)"
   ]
  },
  {
   "cell_type": "markdown",
   "metadata": {
    "id": "j8JZwLSxf1Ag"
   },
   "source": [
    "# FORMAL TO CASUAL"
   ]
  },
  {
   "cell_type": "code",
   "execution_count": 12,
   "metadata": {
    "colab": {
     "base_uri": "https://localhost:8080/"
    },
    "id": "dZrtPwD3d3Ok",
    "outputId": "54478d33-8d3e-4d23-d09d-9113cd9cd9ae"
   },
   "outputs": [
    {
     "name": "stdout",
     "output_type": "stream",
     "text": [
      "hi,what's up? hang around and watch the games then maybe grab some food.\n"
     ]
    }
   ],
   "source": [
    "raw_text = \"Hello, what is happening? We should spend time together, watch the Olympics, and then maybe go grab some food.\"\n",
    "\n",
    "text_tokenize = sent_tokenize(raw_text)\n",
    "\n",
    "processed_text = []\n",
    "\n",
    "for i in range(0, len(text_tokenize)):\n",
    "  modeled_text = styleformer_formal_to_casual.transfer(text_tokenize[i])\n",
    "  processed_text.append(modeled_text)\n",
    "\n",
    "ripe_text= \" \".join(map(str, processed_text)) \n",
    "print(ripe_text)"
   ]
  },
  {
   "cell_type": "markdown",
   "metadata": {
    "id": "ABE7zUc7n9co"
   },
   "source": [
    "# STYLE FORMER TEST (CASUAL TO FORMAL)\n"
   ]
  },
  {
   "cell_type": "code",
   "execution_count": 9,
   "metadata": {
    "colab": {
     "base_uri": "https://localhost:8080/"
    },
    "id": "tsKl6XPmoJx7",
    "outputId": "f07264ad-eb03-430a-c872-91f489f16a0e"
   },
   "outputs": [
    {
     "name": "stdout",
     "output_type": "stream",
     "text": [
      "Running on local URL:  http://127.0.0.1:7863/\n",
      "\n",
      "To create a public link, set `share=True` in `launch()`.\n"
     ]
    },
    {
     "data": {
      "text/html": [
       "\n",
       "        <iframe\n",
       "            width=\"900\"\n",
       "            height=\"500\"\n",
       "            src=\"http://127.0.0.1:7863/\"\n",
       "            frameborder=\"0\"\n",
       "            allowfullscreen\n",
       "            \n",
       "        ></iframe>\n",
       "        "
      ],
      "text/plain": [
       "<IPython.lib.display.IFrame at 0x23663505e80>"
      ]
     },
     "metadata": {},
     "output_type": "display_data"
    },
    {
     "data": {
      "text/plain": [
       "(<fastapi.applications.FastAPI at 0x236035b14f0>,\n",
       " 'http://127.0.0.1:7863/',\n",
       " None)"
      ]
     },
     "execution_count": 9,
     "metadata": {},
     "output_type": "execute_result"
    }
   ],
   "source": [
    "def casual2formal(sentence):\n",
    "    text_tokenize = sent_tokenize(sentence)\n",
    "    processed_text = []\n",
    "    \n",
    "    for i in range(0, len(text_tokenize)):\n",
    "        modeled_text = styleformer_casual_to_formal.transfer(text_tokenize[i])\n",
    "        processed_text.append(modeled_text)\n",
    "        \n",
    "    ripe_text= \" \".join(map(str, processed_text))\n",
    "    return ripe_text\n",
    "\n",
    "app_inputs = gr.inputs.Textbox(lines=2, placeholder = \"Please, enter sentence here...\")\n",
    "\n",
    "interface=gr.Interface(fn = casual2formal,\n",
    "                      inputs = app_inputs,\n",
    "                      outputs = \"text\",\n",
    "                       theme = \"dark\",\n",
    "                      title = \"CASUAL TO FORMAL\",\n",
    "                      article = \"This study created by MIRZA OZER.\")\n",
    "\n",
    "interface.launch()"
   ]
  },
  {
   "cell_type": "markdown",
   "metadata": {
    "id": "MfJsaBoBra66"
   },
   "source": [
    "# STYLE FORMER TEST (FORMAL TO CASUAL)"
   ]
  },
  {
   "cell_type": "code",
   "execution_count": 8,
   "metadata": {
    "colab": {
     "base_uri": "https://localhost:8080/"
    },
    "id": "jEKwOUwMrf8u",
    "outputId": "34f19f20-4860-4aa0-9ba5-a92a00270d65"
   },
   "outputs": [
    {
     "name": "stdout",
     "output_type": "stream",
     "text": [
      "Running on local URL:  http://127.0.0.1:7862/\n",
      "\n",
      "To create a public link, set `share=True` in `launch()`.\n"
     ]
    },
    {
     "data": {
      "text/html": [
       "\n",
       "        <iframe\n",
       "            width=\"900\"\n",
       "            height=\"500\"\n",
       "            src=\"http://127.0.0.1:7862/\"\n",
       "            frameborder=\"0\"\n",
       "            allowfullscreen\n",
       "            \n",
       "        ></iframe>\n",
       "        "
      ],
      "text/plain": [
       "<IPython.lib.display.IFrame at 0x2368b589bb0>"
      ]
     },
     "metadata": {},
     "output_type": "display_data"
    },
    {
     "data": {
      "text/plain": [
       "(<fastapi.applications.FastAPI at 0x236035b14f0>,\n",
       " 'http://127.0.0.1:7862/',\n",
       " None)"
      ]
     },
     "execution_count": 8,
     "metadata": {},
     "output_type": "execute_result"
    }
   ],
   "source": [
    "def formal2casual(sentence1):\n",
    "    text_tokenize = sent_tokenize(sentence1)\n",
    "    processed_text = []\n",
    "    \n",
    "    for i in range(0, len(text_tokenize)):\n",
    "        modeled_text = styleformer_formal_to_casual.transfer(text_tokenize[i])\n",
    "        processed_text.append(modeled_text)\n",
    "        \n",
    "    ripe_text= \" \".join(map(str, processed_text))\n",
    "    return ripe_text\n",
    "\n",
    "app_inputs = gr.inputs.Textbox(lines=2, placeholder = \"Please, enter sentence here...\")\n",
    "\n",
    "interface=gr.Interface(fn = casual2formal,\n",
    "                      inputs = app_inputs,\n",
    "                      outputs = \"text\",\n",
    "                       theme = \"dark\",\n",
    "                       title = \"FORMAL TO CASUAL\",\n",
    "                      article = \"This study created by MIRZA OZER.\")\n",
    "\n",
    "interface.launch()"
   ]
  },
  {
   "cell_type": "code",
   "execution_count": null,
   "metadata": {},
   "outputs": [],
   "source": []
  }
 ],
 "metadata": {
  "colab": {
   "collapsed_sections": [],
   "name": "StyleFormerENG",
   "provenance": []
  },
  "kernelspec": {
   "display_name": "python37",
   "language": "python",
   "name": "python37"
  },
  "language_info": {
   "codemirror_mode": {
    "name": "ipython",
    "version": 3
   },
   "file_extension": ".py",
   "mimetype": "text/x-python",
   "name": "python",
   "nbconvert_exporter": "python",
   "pygments_lexer": "ipython3",
   "version": "3.9.7"
  }
 },
 "nbformat": 4,
 "nbformat_minor": 1
}
